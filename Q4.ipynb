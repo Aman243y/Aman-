{
 "cells": [
  {
   "cell_type": "code",
   "execution_count": 5,
   "id": "d70a9599-8b80-4388-8638-387f4d979697",
   "metadata": {},
   "outputs": [
    {
     "name": "stdout",
     "output_type": "stream",
     "text": [
      "Element: 1, Data Type: <class 'int'>\n",
      "Element: 2.5, Data Type: <class 'float'>\n",
      "Element: hello, Data Type: <class 'str'>\n",
      "Element: True, Data Type: <class 'bool'>\n",
      "Element: [1, 2, 3], Data Type: <class 'list'>\n",
      "Element: {'a': 1, 'b': 2}, Data Type: <class 'dict'>\n",
      "Element: (4, 5), Data Type: <class 'tuple'>\n",
      "Element: None, Data Type: <class 'NoneType'>\n",
      "Element: False, Data Type: <class 'bool'>\n",
      "Element: world, Data Type: <class 'str'>\n"
     ]
    }
   ],
   "source": [
    "my_list = [1, 2.5, 'hello', True, [1, 2, 3], {'a': 1, 'b': 2}, (4, 5), None, False, 'world']\n",
    "\n",
    "for element in my_list:\n",
    "    print(f\"Element: {element}, Data Type: {type(element)}\")\n",
    "\n"
   ]
  },
  {
   "cell_type": "code",
   "execution_count": null,
   "id": "43ee8438-89f4-4797-9185-e6b41279520c",
   "metadata": {},
   "outputs": [],
   "source": []
  }
 ],
 "metadata": {
  "kernelspec": {
   "display_name": "Python 3 (ipykernel)",
   "language": "python",
   "name": "python3"
  },
  "language_info": {
   "codemirror_mode": {
    "name": "ipython",
    "version": 3
   },
   "file_extension": ".py",
   "mimetype": "text/x-python",
   "name": "python",
   "nbconvert_exporter": "python",
   "pygments_lexer": "ipython3",
   "version": "3.10.8"
  }
 },
 "nbformat": 4,
 "nbformat_minor": 5
}
