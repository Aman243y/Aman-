{
 "cells": [
  {
   "cell_type": "code",
   "execution_count": 1,
   "id": "4745a3ce-5d43-4a60-a2e8-828e724953ca",
   "metadata": {},
   "outputs": [],
   "source": [
    "a='Aman'"
   ]
  },
  {
   "cell_type": "code",
   "execution_count": 2,
   "id": "e12ce842-56ed-41c8-b2c0-c09d6e406ba9",
   "metadata": {},
   "outputs": [
    {
     "data": {
      "text/plain": [
       "str"
      ]
     },
     "execution_count": 2,
     "metadata": {},
     "output_type": "execute_result"
    }
   ],
   "source": [
    "type(a)"
   ]
  },
  {
   "cell_type": "code",
   "execution_count": 3,
   "id": "36f50d89-01e0-4cd6-b330-5bc9763c912c",
   "metadata": {},
   "outputs": [],
   "source": [
    "a=[21,2.00,'aman',True,4+4j]"
   ]
  },
  {
   "cell_type": "code",
   "execution_count": 4,
   "id": "c0eadfb5-e466-44de-a786-c93f4bb88b95",
   "metadata": {},
   "outputs": [
    {
     "data": {
      "text/plain": [
       "list"
      ]
     },
     "execution_count": 4,
     "metadata": {},
     "output_type": "execute_result"
    }
   ],
   "source": [
    "type(a)"
   ]
  },
  {
   "cell_type": "code",
   "execution_count": 5,
   "id": "c3cdc688-b6f0-4d29-968a-bacbba2000dd",
   "metadata": {},
   "outputs": [],
   "source": [
    "a=2.24"
   ]
  },
  {
   "cell_type": "code",
   "execution_count": 6,
   "id": "c20cc230-41ab-456a-a145-fd5c279872c2",
   "metadata": {},
   "outputs": [
    {
     "data": {
      "text/plain": [
       "float"
      ]
     },
     "execution_count": 6,
     "metadata": {},
     "output_type": "execute_result"
    }
   ],
   "source": [
    "type(a)"
   ]
  },
  {
   "cell_type": "code",
   "execution_count": 7,
   "id": "df4635d7-6719-4f1d-962f-ab23f6c8aff8",
   "metadata": {},
   "outputs": [],
   "source": [
    "a= ('Aman', 'Tanuj','kaliya')\n"
   ]
  },
  {
   "cell_type": "code",
   "execution_count": 8,
   "id": "7e74d1e7-f8b7-4b30-b887-ba8cf3a86dfd",
   "metadata": {},
   "outputs": [
    {
     "data": {
      "text/plain": [
       "tuple"
      ]
     },
     "execution_count": 8,
     "metadata": {},
     "output_type": "execute_result"
    }
   ],
   "source": [
    "type(a)"
   ]
  },
  {
   "cell_type": "code",
   "execution_count": null,
   "id": "d649b8bd-fb6e-4b35-b9d7-4f94c2614fd1",
   "metadata": {},
   "outputs": [],
   "source": []
  }
 ],
 "metadata": {
  "kernelspec": {
   "display_name": "Python 3 (ipykernel)",
   "language": "python",
   "name": "python3"
  },
  "language_info": {
   "codemirror_mode": {
    "name": "ipython",
    "version": 3
   },
   "file_extension": ".py",
   "mimetype": "text/x-python",
   "name": "python",
   "nbconvert_exporter": "python",
   "pygments_lexer": "ipython3",
   "version": "3.10.8"
  }
 },
 "nbformat": 4,
 "nbformat_minor": 5
}
