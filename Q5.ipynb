{
 "cells": [
  {
   "cell_type": "code",
   "execution_count": 10,
   "id": "2ae996f7-8b3f-4493-ba9a-20fa0ee8a342",
   "metadata": {},
   "outputs": [
    {
     "name": "stdout",
     "output_type": "stream",
     "text": [
      "A is not purely divisible by B\n"
     ]
    }
   ],
   "source": [
    "A = 100\n",
    "B = 101\n",
    "\n",
    "while A % B == 0 and A != 0:\n",
    "    A = A // B\n",
    "    \n",
    "\n",
    "if A == 0:\n",
    "    print(\"A is purely divisible by B \")\n",
    "else:\n",
    "    print(\"A is not purely divisible by B\")\n"
   ]
  },
  {
   "cell_type": "code",
   "execution_count": null,
   "id": "03639556-8ed4-49f3-94ea-b19154290b8e",
   "metadata": {},
   "outputs": [],
   "source": []
  },
  {
   "cell_type": "code",
   "execution_count": null,
   "id": "84cfcd8f-e648-45b5-a479-cd9542790cda",
   "metadata": {},
   "outputs": [],
   "source": []
  }
 ],
 "metadata": {
  "kernelspec": {
   "display_name": "Python 3 (ipykernel)",
   "language": "python",
   "name": "python3"
  },
  "language_info": {
   "codemirror_mode": {
    "name": "ipython",
    "version": 3
   },
   "file_extension": ".py",
   "mimetype": "text/x-python",
   "name": "python",
   "nbconvert_exporter": "python",
   "pygments_lexer": "ipython3",
   "version": "3.10.8"
  }
 },
 "nbformat": 4,
 "nbformat_minor": 5
}
