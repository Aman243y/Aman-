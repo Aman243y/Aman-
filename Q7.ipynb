{
 "cells": [
  {
   "cell_type": "code",
   "execution_count": 2,
   "id": "4988ed9b-39bd-464e-904b-7cda6d25b8c1",
   "metadata": {},
   "outputs": [
    {
     "name": "stdout",
     "output_type": "stream",
     "text": [
      "Original List: [1, 2, 3]\n",
      "Modified List: [10, 2, 3]\n"
     ]
    }
   ],
   "source": [
    "# mutable-- can be modified after they are created.\n",
    "a = [1, 2, 3]\n",
    "print(f\"Original List: {a}\")\n",
    "a[0] = 10\n",
    "print(f\"Modified List: {a}\")\n"
   ]
  },
  {
   "cell_type": "code",
   "execution_count": 3,
   "id": "00c2bda8-7015-4cc5-9ac8-008d7cd01c65",
   "metadata": {},
   "outputs": [
    {
     "name": "stdout",
     "output_type": "stream",
     "text": [
      "Original String: Hello\n"
     ]
    }
   ],
   "source": [
    "# immutable--cannot be modified after they are created.\n",
    "my_string = \"Hello\"\n",
    "print(f\"Original String: {my_string}\")\n",
    "\n",
    "# Trying to modify the string (will raise an error)\n",
    "# \n"
   ]
  },
  {
   "cell_type": "code",
   "execution_count": null,
   "id": "7cd99dea-21d0-4a02-99af-4bc8e9c111b8",
   "metadata": {},
   "outputs": [],
   "source": []
  }
 ],
 "metadata": {
  "kernelspec": {
   "display_name": "Python 3 (ipykernel)",
   "language": "python",
   "name": "python3"
  },
  "language_info": {
   "codemirror_mode": {
    "name": "ipython",
    "version": 3
   },
   "file_extension": ".py",
   "mimetype": "text/x-python",
   "name": "python",
   "nbconvert_exporter": "python",
   "pygments_lexer": "ipython3",
   "version": "3.10.8"
  }
 },
 "nbformat": 4,
 "nbformat_minor": 5
}
